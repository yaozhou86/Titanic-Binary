{
 "cells": [
  {
   "cell_type": "code",
   "execution_count": 1,
   "metadata": {
    "collapsed": true
   },
   "outputs": [],
   "source": [
    "# common imports\n",
    "import pandas as pd\n",
    "import numpy as np\n",
    "import matplotlib.pyplot as plt\n",
    "import re as re\n",
    "import seaborn as sns\n",
    "np.random.seed(28)"
   ]
  },
  {
   "cell_type": "markdown",
   "metadata": {},
   "source": [
    "### Load Data and Exploration Analysis"
   ]
  },
  {
   "cell_type": "code",
   "execution_count": 56,
   "metadata": {
    "collapsed": true
   },
   "outputs": [],
   "source": [
    "titanic = pd.read_csv(\"train.csv\")"
   ]
  },
  {
   "cell_type": "code",
   "execution_count": 57,
   "metadata": {},
   "outputs": [
    {
     "data": {
      "text/html": [
       "<div>\n",
       "<style>\n",
       "    .dataframe thead tr:only-child th {\n",
       "        text-align: right;\n",
       "    }\n",
       "\n",
       "    .dataframe thead th {\n",
       "        text-align: left;\n",
       "    }\n",
       "\n",
       "    .dataframe tbody tr th {\n",
       "        vertical-align: top;\n",
       "    }\n",
       "</style>\n",
       "<table border=\"1\" class=\"dataframe\">\n",
       "  <thead>\n",
       "    <tr style=\"text-align: right;\">\n",
       "      <th></th>\n",
       "      <th>PassengerId</th>\n",
       "      <th>Survived</th>\n",
       "      <th>Pclass</th>\n",
       "      <th>Name</th>\n",
       "      <th>Sex</th>\n",
       "      <th>Age</th>\n",
       "      <th>SibSp</th>\n",
       "      <th>Parch</th>\n",
       "      <th>Ticket</th>\n",
       "      <th>Fare</th>\n",
       "      <th>Cabin</th>\n",
       "      <th>Embarked</th>\n",
       "    </tr>\n",
       "  </thead>\n",
       "  <tbody>\n",
       "    <tr>\n",
       "      <th>0</th>\n",
       "      <td>1</td>\n",
       "      <td>0</td>\n",
       "      <td>3</td>\n",
       "      <td>Braund, Mr. Owen Harris</td>\n",
       "      <td>male</td>\n",
       "      <td>22.0</td>\n",
       "      <td>1</td>\n",
       "      <td>0</td>\n",
       "      <td>A/5 21171</td>\n",
       "      <td>7.2500</td>\n",
       "      <td>NaN</td>\n",
       "      <td>S</td>\n",
       "    </tr>\n",
       "    <tr>\n",
       "      <th>1</th>\n",
       "      <td>2</td>\n",
       "      <td>1</td>\n",
       "      <td>1</td>\n",
       "      <td>Cumings, Mrs. John Bradley (Florence Briggs Th...</td>\n",
       "      <td>female</td>\n",
       "      <td>38.0</td>\n",
       "      <td>1</td>\n",
       "      <td>0</td>\n",
       "      <td>PC 17599</td>\n",
       "      <td>71.2833</td>\n",
       "      <td>C85</td>\n",
       "      <td>C</td>\n",
       "    </tr>\n",
       "    <tr>\n",
       "      <th>2</th>\n",
       "      <td>3</td>\n",
       "      <td>1</td>\n",
       "      <td>3</td>\n",
       "      <td>Heikkinen, Miss. Laina</td>\n",
       "      <td>female</td>\n",
       "      <td>26.0</td>\n",
       "      <td>0</td>\n",
       "      <td>0</td>\n",
       "      <td>STON/O2. 3101282</td>\n",
       "      <td>7.9250</td>\n",
       "      <td>NaN</td>\n",
       "      <td>S</td>\n",
       "    </tr>\n",
       "  </tbody>\n",
       "</table>\n",
       "</div>"
      ],
      "text/plain": [
       "   PassengerId  Survived  Pclass  \\\n",
       "0            1         0       3   \n",
       "1            2         1       1   \n",
       "2            3         1       3   \n",
       "\n",
       "                                                Name     Sex   Age  SibSp  \\\n",
       "0                            Braund, Mr. Owen Harris    male  22.0      1   \n",
       "1  Cumings, Mrs. John Bradley (Florence Briggs Th...  female  38.0      1   \n",
       "2                             Heikkinen, Miss. Laina  female  26.0      0   \n",
       "\n",
       "   Parch            Ticket     Fare Cabin Embarked  \n",
       "0      0         A/5 21171   7.2500   NaN        S  \n",
       "1      0          PC 17599  71.2833   C85        C  \n",
       "2      0  STON/O2. 3101282   7.9250   NaN        S  "
      ]
     },
     "execution_count": 57,
     "metadata": {},
     "output_type": "execute_result"
    }
   ],
   "source": [
    "titanic.head(3)"
   ]
  },
  {
   "cell_type": "code",
   "execution_count": 58,
   "metadata": {},
   "outputs": [
    {
     "name": "stdout",
     "output_type": "stream",
     "text": [
      "<class 'pandas.core.frame.DataFrame'>\n",
      "RangeIndex: 891 entries, 0 to 890\n",
      "Data columns (total 12 columns):\n",
      "PassengerId    891 non-null int64\n",
      "Survived       891 non-null int64\n",
      "Pclass         891 non-null int64\n",
      "Name           891 non-null object\n",
      "Sex            891 non-null object\n",
      "Age            714 non-null float64\n",
      "SibSp          891 non-null int64\n",
      "Parch          891 non-null int64\n",
      "Ticket         891 non-null object\n",
      "Fare           891 non-null float64\n",
      "Cabin          204 non-null object\n",
      "Embarked       889 non-null object\n",
      "dtypes: float64(2), int64(5), object(5)\n",
      "memory usage: 83.6+ KB\n"
     ]
    }
   ],
   "source": [
    "titanic.info()"
   ]
  },
  {
   "cell_type": "markdown",
   "metadata": {},
   "source": [
    "Features with missing values:\n",
    "Age(Train, Test), Cabin(Train, Test), Embarked(Train), Fare(Test)"
   ]
  },
  {
   "cell_type": "code",
   "execution_count": 59,
   "metadata": {},
   "outputs": [
    {
     "data": {
      "text/plain": [
       "male      577\n",
       "female    314\n",
       "Name: Sex, dtype: int64"
      ]
     },
     "execution_count": 59,
     "metadata": {},
     "output_type": "execute_result"
    }
   ],
   "source": [
    "titanic[\"Sex\"].value_counts()"
   ]
  },
  {
   "cell_type": "code",
   "execution_count": 60,
   "metadata": {},
   "outputs": [
    {
     "data": {
      "text/plain": [
       "S    644\n",
       "C    168\n",
       "Q     77\n",
       "Name: Embarked, dtype: int64"
      ]
     },
     "execution_count": 60,
     "metadata": {},
     "output_type": "execute_result"
    }
   ],
   "source": [
    "titanic[\"Embarked\"].value_counts()"
   ]
  },
  {
   "cell_type": "code",
   "execution_count": 61,
   "metadata": {
    "collapsed": true
   },
   "outputs": [],
   "source": [
    "# encode categorical attributes\n",
    "titanic[\"Sex_enc\"] = titanic[\"Sex\"].map({\"female\":1, \"male\": 0}) # encode sex\n",
    "titanic[\"Embarked_enc\"] = titanic[\"Embarked\"].map({\"S\":0, \"C\":1, \"Q\":2}) # encode Embarked"
   ]
  },
  {
   "cell_type": "code",
   "execution_count": 62,
   "metadata": {},
   "outputs": [
    {
     "data": {
      "image/png": "[encoded data removed]",
      "text/plain": [
       "<matplotlib.figure.Figure at 0x24a93e97c88>"
      ]
     },
     "metadata": {},
     "output_type": "display_data"
    }
   ],
   "source": [
    "# Take a look at the distribution of all feature values\n",
    "%matplotlib inline\n",
    "titanic.hist(bins=50, figsize=(20,15))\n",
    "plt.show()"
   ]
  },
  {
   "cell_type": "markdown",
   "metadata": {},
   "source": [
    "A few observations: \n",
    "* Attributes have very different scales - need to be standardized\n",
    "* Sex, Embarked, Parch, Pclass and SibSp take discrete distributions, Age and Fare take continuous distributions\n",
    "* Name, Ticket, Cabin are not plotted"
   ]
  },
  {
   "cell_type": "markdown",
   "metadata": {},
   "source": [
    "#### Sex, Pclass, Parch, SibSp, Embarked"
   ]
  },
  {
   "cell_type": "code",
   "execution_count": 63,
   "metadata": {},
   "outputs": [
    {
     "data": {
      "image/png": "[encoded data removed]",
      "text/plain": [
       "<matplotlib.figure.Figure at 0x24a96759c18>"
      ]
     },
     "metadata": {},
     "output_type": "display_data"
    }
   ],
   "source": [
    "# Take a look at how Embarked, Parch, Pclass, SibSp and Sex are associated with Survived\n",
    "fig, axes = plt.subplots(2,3, figsize=(16,12))\n",
    "attr_ls = [\"Sex\", \"Parch\", \"Pclass\", \"SibSp\", \"Embarked\"]\n",
    "for attr, ax in zip(attr_ls[:3], axes[0]):\n",
    "    titanic.pivot_table(\"PassengerId\", attr, \"Survived\", \"count\").plot(kind=\"bar\", stacked=True, ax=ax)\n",
    "for attr, ax in zip(attr_ls[3:], axes[1]):\n",
    "    titanic.pivot_table(\"PassengerId\", attr, \"Survived\", \"count\").plot(kind=\"bar\", stacked=True, ax=ax) "
   ]
  },
  {
   "cell_type": "markdown",
   "metadata": {},
   "source": [
    "* Female is more likely to survive than male\n",
    "* Parch seems not to be a significant factor\n",
    "* Passengers in the third class are more likely to perish\n",
    "* SibSp seems not be a siginificant factor\n",
    "* Passengers who embarked at S are more likely to perish"
   ]
  },
  {
   "cell_type": "code",
   "execution_count": 64,
   "metadata": {},
   "outputs": [
    {
     "data": {
      "text/plain": [
       "Survived        1.000000\n",
       "Sex_enc         0.543351\n",
       "Pclass          0.338481\n",
       "Embarked_enc    0.108669\n",
       "Parch           0.081629\n",
       "SibSp           0.035322\n",
       "Name: Survived, dtype: float64"
      ]
     },
     "execution_count": 64,
     "metadata": {},
     "output_type": "execute_result"
    }
   ],
   "source": [
    "# let's verify the observations with correlation matrix\n",
    "corr = titanic[[\"Survived\", \"Sex_enc\", \"Parch\", \"Pclass\", \"SibSp\", \"Embarked_enc\"]].corr()\n",
    "np.abs(corr[\"Survived\"]).sort_values(ascending=False)"
   ]
  },
  {
   "cell_type": "code",
   "execution_count": 65,
   "metadata": {},
   "outputs": [
    {
     "data": {
      "text/plain": [
       "Survived       1.000000\n",
       "family_size    0.016639\n",
       "Name: Survived, dtype: float64"
      ]
     },
     "execution_count": 65,
     "metadata": {},
     "output_type": "execute_result"
    }
   ],
   "source": [
    "# what about combining SibSp and Parch\n",
    "titanic[\"family_size\"] = titanic[\"Parch\"] + titanic[\"SibSp\"]\n",
    "titanic[[\"Survived\", \"family_size\"]].corr()[\"Survived\"]"
   ]
  },
  {
   "cell_type": "code",
   "execution_count": 66,
   "metadata": {
    "collapsed": true
   },
   "outputs": [],
   "source": [
    "# family size is not more correlated than Parch and SibSp, so delete it\n",
    "titanic.drop(\"family_size\", axis=1, inplace=True)"
   ]
  },
  {
   "cell_type": "markdown",
   "metadata": {},
   "source": [
    "#### Age and Fare"
   ]
  },
  {
   "cell_type": "code",
   "execution_count": 67,
   "metadata": {},
   "outputs": [
    {
     "data": {
      "image/png": "[encoded data removed]",
      "text/plain": [
       "<matplotlib.figure.Figure at 0x24a94950be0>"
      ]
     },
     "metadata": {},
     "output_type": "display_data"
    }
   ],
   "source": [
    "# take a look at the numeric features Age, Fare\n",
    "fig, axes = plt.subplots(1,2,figsize=(12,6))\n",
    "titanic.boxplot(by=\"Survived\", column=\"Age\", ax=axes[0])\n",
    "titanic.boxplot(by=\"Survived\", column=\"Fare\", ax=axes[1])\n",
    "plt.show()"
   ]
  },
  {
   "cell_type": "markdown",
   "metadata": {},
   "source": [
    "* Survived passengeres are slightly younger than those perished\n",
    "* The fares of Survived passengers have higher value than that of perished passengeres"
   ]
  },
  {
   "cell_type": "code",
   "execution_count": 68,
   "metadata": {},
   "outputs": [
    {
     "data": {
      "text/plain": [
       "Survived    1.000000\n",
       "Fare        0.257307\n",
       "Age        -0.077221\n",
       "Name: Survived, dtype: float64"
      ]
     },
     "execution_count": 68,
     "metadata": {},
     "output_type": "execute_result"
    }
   ],
   "source": [
    "# still take a look at the correlation\n",
    "titanic[[\"Survived\", \"Fare\", \"Age\"]].corr()[\"Survived\"]"
   ]
  },
  {
   "cell_type": "markdown",
   "metadata": {},
   "source": [
    "#### Title, Ticket and Cabin"
   ]
  },
  {
   "cell_type": "code",
   "execution_count": 69,
   "metadata": {
    "collapsed": true
   },
   "outputs": [],
   "source": [
    "# Extract title from Name\n",
    "def get_title(name):\n",
    "    title_search = re.search(' ([A-Za-z]+)\\.', name)\n",
    "    if title_search:\n",
    "        return title_search.group(1)\n",
    "    return \"\"\n",
    "non_rare = [\"Mr\", \"Miss\", \"Mrs\", \"Master\"] # non rare titles\n",
    "title = titanic[\"Name\"].map(get_title)\n",
    "title = np.where(title.isin(non_rare), title, \"Rare\")\n",
    "titanic[\"Title\"] = title"
   ]
  },
  {
   "cell_type": "code",
   "execution_count": 70,
   "metadata": {},
   "outputs": [
    {
     "data": {
      "text/plain": [
       "Mr        517\n",
       "Miss      182\n",
       "Mrs       125\n",
       "Master     40\n",
       "Rare       27\n",
       "Name: Title, dtype: int64"
      ]
     },
     "execution_count": 70,
     "metadata": {},
     "output_type": "execute_result"
    }
   ],
   "source": [
    "titanic[\"Title\"].value_counts()"
   ]
  },
  {
   "cell_type": "code",
   "execution_count": 98,
   "metadata": {},
   "outputs": [],
   "source": [
    "def extract_cabin(cabin):\n",
    "    split = re.split(\"\\s\", cabin)        \n",
    "    cabin_letter = [s[0] for s in split]\n",
    "    if len(set(cabin_letter)) == 1: # if the elements in the list are the same, \n",
    "        return cabin_letter[0] # return the element\n",
    "    else:\n",
    "        return \"M\" # otherwise return \"M\"\n",
    "titanic[\"Cabin_letter\"] = titanic[\"Cabin\"].map(lambda x: \"U\" if pd.isnull(x) else extract_cabin(x))"
   ]
  },
  {
   "cell_type": "code",
   "execution_count": 99,
   "metadata": {},
   "outputs": [
    {
     "data": {
      "text/plain": [
       "U    687\n",
       "C     59\n",
       "B     47\n",
       "D     33\n",
       "E     32\n",
       "A     15\n",
       "F      9\n",
       "M      4\n",
       "G      4\n",
       "T      1\n",
       "Name: Cabin_letter, dtype: int64"
      ]
     },
     "execution_count": 99,
     "metadata": {},
     "output_type": "execute_result"
    }
   ],
   "source": [
    "titanic[\"Cabin_letter\"].value_counts()"
   ]
  },
  {
   "cell_type": "code",
   "execution_count": 100,
   "metadata": {},
   "outputs": [
    {
     "data": {
      "text/plain": [
       "6    423\n",
       "5    246\n",
       "4    169\n",
       "7     44\n",
       "3      7\n",
       "1      2\n",
       "Name: Ticket_len, dtype: int64"
      ]
     },
     "execution_count": 100,
     "metadata": {},
     "output_type": "execute_result"
    }
   ],
   "source": [
    "def ticket_len(ticket):\n",
    "    split = re.split(\"\\s\", ticket)\n",
    "    return len(split[-1])\n",
    "titanic[\"Ticket_len\"] = titanic[\"Ticket\"].map(ticket_len)\n",
    "titanic[\"Ticket_len\"].value_counts()"
   ]
  },
  {
   "cell_type": "code",
   "execution_count": 101,
   "metadata": {},
   "outputs": [
    {
     "data": {
      "image/png": "[encoded data removed]",
      "text/plain": [
       "<matplotlib.figure.Figure at 0x24a934ca4a8>"
      ]
     },
     "metadata": {},
     "output_type": "display_data"
    }
   ],
   "source": [
    "# lets plot Title, Cabin_letter and Ticket_len\n",
    "fig, axes = plt.subplots(1,3,  figsize=(16, 6))\n",
    "attr_ls = [\"Title\", \"Cabin_letter\", \"Ticket_len\"]\n",
    "for ax, attr in zip(axes, attr_ls):\n",
    "    titanic.pivot_table(\"PassengerId\", attr, \"Survived\", \"count\").plot(kind=\"bar\", stacked=True, colormap=\"Paired\", ax=ax)"
   ]
  },
  {
   "cell_type": "markdown",
   "metadata": {},
   "source": [
    "* Mrs are more likely to perish, which is consistent with the previous analysis that males are more possible to perish\n",
    "* Cabins seems not to be an important feature\n",
    "* Ticket length seems not to be an important feature"
   ]
  },
  {
   "cell_type": "code",
   "execution_count": 102,
   "metadata": {},
   "outputs": [
    {
     "data": {
      "image/png": "[encoded data removed]",
      "text/plain": [
       "<matplotlib.figure.Figure at 0x24a9492d7f0>"
      ]
     },
     "metadata": {},
     "output_type": "display_data"
    }
   ],
   "source": [
    "from sklearn.preprocessing import LabelEncoder\n",
    "encoder = LabelEncoder()\n",
    "titanic[\"Title_enc\"] = encoder.fit_transform(titanic[\"Title\"])\n",
    "titanic[\"Ticket_enc\"] = encoder.fit_transform(titanic[\"Ticket_len\"])\n",
    "titanic[\"Cabin_enc\"] = encoder.fit_transform(titanic[\"Cabin_letter\"])\n",
    "corr = titanic.corr()\n",
    "fig = plt.figure(figsize=(12,10))\n",
    "sns.heatmap(corr, cmap='BuGn', linewidths=0.1,vmax=1.0, square=True, annot=True)\n",
    "plt.show()"
   ]
  },
  {
   "cell_type": "markdown",
   "metadata": {},
   "source": [
    "* The features are that highly corrected with Survived include Pclass, Fare, Sex_enc, Cabin_enc\n",
    "* Title is another important feature but since it is categorical, it is not linearly correlated with Survived\n",
    "* Cabin_enc and Pclass are highly correlated, maybe we can fill the missing values in Cabin with Pclass"
   ]
  },
  {
   "cell_type": "markdown",
   "metadata": {},
   "source": [
    "### Prepare Data through Pipeline\n",
    "We need to complete following steps through a pipeline\n",
    "* Extract Title from Name\n",
    "* Extract Cabin letter from Cabin\n",
    "* Encode categorical features\n",
    "* Fill missing values\n",
    "* Standardize numeric features"
   ]
  },
  {
   "cell_type": "code",
   "execution_count": 103,
   "metadata": {
    "collapsed": true
   },
   "outputs": [],
   "source": [
    "# defined an estimator to pick attributes\n",
    "from sklearn.base import BaseEstimator, TransformerMixin\n",
    "class DataFrameSelector(BaseEstimator, TransformerMixin):\n",
    "    def __init__(self, attrib):\n",
    "        self.attrib = attrib\n",
    "    def fit(self, X, y=None):\n",
    "        return self\n",
    "    def transform(self, X, y=None):\n",
    "        return X[self.attrib].values"
   ]
  },
  {
   "cell_type": "code",
   "execution_count": 104,
   "metadata": {
    "collapsed": true
   },
   "outputs": [],
   "source": [
    "# define a customize binarizer to binarize categorical features (LabelBinarizer() doesn't work with pipeline())\n",
    "from sklearn.preprocessing import LabelBinarizer\n",
    "class CustomBinarizer(BaseEstimator, TransformerMixin):\n",
    "    def fit(self, X, y=None,**fit_params):\n",
    "        return self\n",
    "    def transform(self, X):\n",
    "        return LabelBinarizer().fit(X).transform(X)"
   ]
  },
  {
   "cell_type": "code",
   "execution_count": 105,
   "metadata": {
    "collapsed": true
   },
   "outputs": [],
   "source": [
    "# label_binarize accepts pre-defined classes\n",
    "from sklearn.preprocessing import label_binarize\n",
    "class BinarizerByClass(BaseEstimator, TransformerMixin):\n",
    "    def __init__(self, classes):\n",
    "        self.classes = classes\n",
    "    def fit(self, X, y=None, **fit_params):\n",
    "        return self\n",
    "    def transform(self, X):\n",
    "        return label_binarize(X, classes = self.classes)"
   ]
  },
  {
   "cell_type": "code",
   "execution_count": 110,
   "metadata": {
    "collapsed": true
   },
   "outputs": [],
   "source": [
    "class FeatureAdder(BaseEstimator, TransformerMixin):\n",
    "    def __init__(self, name_attr, cabin_attr):\n",
    "        self.name_attr = name_attr\n",
    "        self.cabin_attr = cabin_attr\n",
    "    def fit(self, X, y=None):\n",
    "        return self\n",
    "    def transform(self, X):\n",
    "        title = X[self.name_attr].map(get_title)\n",
    "        non_rare = [\"Mr\", \"Miss\", \"Mrs\", \"Master\"] # non rare titles\n",
    "        title = np.where(title.isin(non_rare), title, \"Rare\")\n",
    "        cabin_letter = X[self.cabin_attr].map(lambda x: \"U\" if pd.isnull(x) else extract_cabin(x)).values\n",
    "        return np.c_[X, title, cabin_letter] # append the added columns "
   ]
  },
  {
   "cell_type": "code",
   "execution_count": 120,
   "metadata": {},
   "outputs": [],
   "source": [
    "# fill the missing values by mode\n",
    "class FillingByMode(BaseEstimator, TransformerMixin):\n",
    "    def __init__(self, attr):\n",
    "        self.attr = attr\n",
    "    def fit(self, X, y=None):\n",
    "        return self\n",
    "    def transform(self, X):\n",
    "        X[self.attr].fillna(X[self.attr].mode()[0], inplace=True)\n",
    "        return X"
   ]
  },
  {
   "cell_type": "code",
   "execution_count": 122,
   "metadata": {
    "collapsed": true
   },
   "outputs": [],
   "source": [
    "titanic = pd.read_csv(\"train.csv\")\n",
    "target = titanic[\"Survived\"]\n",
    "titanic_test = pd.read_csv(\"test.csv\")"
   ]
  },
  {
   "cell_type": "code",
   "execution_count": 123,
   "metadata": {},
   "outputs": [
    {
     "data": {
      "text/html": [
       "<div>\n",
       "<style>\n",
       "    .dataframe thead tr:only-child th {\n",
       "        text-align: right;\n",
       "    }\n",
       "\n",
       "    .dataframe thead th {\n",
       "        text-align: left;\n",
       "    }\n",
       "\n",
       "    .dataframe tbody tr th {\n",
       "        vertical-align: top;\n",
       "    }\n",
       "</style>\n",
       "<table border=\"1\" class=\"dataframe\">\n",
       "  <thead>\n",
       "    <tr style=\"text-align: right;\">\n",
       "      <th></th>\n",
       "      <th>PassengerId</th>\n",
       "      <th>Survived</th>\n",
       "      <th>Pclass</th>\n",
       "      <th>Name</th>\n",
       "      <th>Sex</th>\n",
       "      <th>Age</th>\n",
       "      <th>SibSp</th>\n",
       "      <th>Parch</th>\n",
       "      <th>Ticket</th>\n",
       "      <th>Fare</th>\n",
       "      <th>Cabin</th>\n",
       "      <th>Embarked</th>\n",
       "      <th>Title</th>\n",
       "      <th>Cabin_letter</th>\n",
       "    </tr>\n",
       "  </thead>\n",
       "  <tbody>\n",
       "    <tr>\n",
       "      <th>0</th>\n",
       "      <td>1</td>\n",
       "      <td>0</td>\n",
       "      <td>3</td>\n",
       "      <td>Braund, Mr. Owen Harris</td>\n",
       "      <td>male</td>\n",
       "      <td>22</td>\n",
       "      <td>1</td>\n",
       "      <td>0</td>\n",
       "      <td>A/5 21171</td>\n",
       "      <td>7.25</td>\n",
       "      <td>NaN</td>\n",
       "      <td>S</td>\n",
       "      <td>Mr</td>\n",
       "      <td>U</td>\n",
       "    </tr>\n",
       "    <tr>\n",
       "      <th>1</th>\n",
       "      <td>2</td>\n",
       "      <td>1</td>\n",
       "      <td>1</td>\n",
       "      <td>Cumings, Mrs. John Bradley (Florence Briggs Th...</td>\n",
       "      <td>female</td>\n",
       "      <td>38</td>\n",
       "      <td>1</td>\n",
       "      <td>0</td>\n",
       "      <td>PC 17599</td>\n",
       "      <td>71.2833</td>\n",
       "      <td>C85</td>\n",
       "      <td>C</td>\n",
       "      <td>Mrs</td>\n",
       "      <td>C</td>\n",
       "    </tr>\n",
       "    <tr>\n",
       "      <th>2</th>\n",
       "      <td>3</td>\n",
       "      <td>1</td>\n",
       "      <td>3</td>\n",
       "      <td>Heikkinen, Miss. Laina</td>\n",
       "      <td>female</td>\n",
       "      <td>26</td>\n",
       "      <td>0</td>\n",
       "      <td>0</td>\n",
       "      <td>STON/O2. 3101282</td>\n",
       "      <td>7.925</td>\n",
       "      <td>NaN</td>\n",
       "      <td>S</td>\n",
       "      <td>Miss</td>\n",
       "      <td>U</td>\n",
       "    </tr>\n",
       "  </tbody>\n",
       "</table>\n",
       "</div>"
      ],
      "text/plain": [
       "  PassengerId Survived Pclass  \\\n",
       "0           1        0      3   \n",
       "1           2        1      1   \n",
       "2           3        1      3   \n",
       "\n",
       "                                                Name     Sex Age SibSp Parch  \\\n",
       "0                            Braund, Mr. Owen Harris    male  22     1     0   \n",
       "1  Cumings, Mrs. John Bradley (Florence Briggs Th...  female  38     1     0   \n",
       "2                             Heikkinen, Miss. Laina  female  26     0     0   \n",
       "\n",
       "             Ticket     Fare Cabin Embarked Title Cabin_letter  \n",
       "0         A/5 21171     7.25   NaN        S    Mr            U  \n",
       "1          PC 17599  71.2833   C85        C   Mrs            C  \n",
       "2  STON/O2. 3101282    7.925   NaN        S  Miss            U  "
      ]
     },
     "execution_count": 123,
     "metadata": {},
     "output_type": "execute_result"
    }
   ],
   "source": [
    "from sklearn.pipeline import Pipeline\n",
    "from sklearn.pipeline import FeatureUnion\n",
    "from sklearn.preprocessing import StandardScaler\n",
    "from sklearn.preprocessing import Imputer\n",
    "\n",
    "featureAdder = FeatureAdder(\"Name\", \"Cabin\")\n",
    "titanic = pd.DataFrame(featureAdder.fit_transform(titanic), columns=list(titanic.columns)+[\"Title\", \"Cabin_letter\"])\n",
    "titanic.head(3)"
   ]
  },
  {
   "cell_type": "code",
   "execution_count": 125,
   "metadata": {},
   "outputs": [
    {
     "data": {
      "text/plain": [
       "array([[1, 0, 0, ..., 0, 0, 0],\n",
       "       [0, 1, 0, ..., 0, 0, 0],\n",
       "       [0, 0, 0, ..., 0, 0, 0],\n",
       "       ..., \n",
       "       [0, 0, 0, ..., 0, 0, 0],\n",
       "       [1, 1, 0, ..., 0, 0, 0],\n",
       "       [1, 0, 1, ..., 0, 0, 0]])"
      ]
     },
     "execution_count": 125,
     "metadata": {},
     "output_type": "execute_result"
    }
   ],
   "source": [
    "cat_pip = FeatureUnion(transformer_list= [\n",
    "    (\"sex_transform\", Pipeline([(\"selector\", DataFrameSelector([\"Sex\"])),\n",
    "                                (\"binarizer\", CustomBinarizer())])),  # binarize Sex\n",
    "    (\"embarked_transform\", Pipeline([(\"filling\", FillingByMode(\"Embarked\")),\n",
    "                                     (\"selector\", DataFrameSelector([\"Embarked\"])),\n",
    "                                    (\"binarizer\", CustomBinarizer())])), # encode Embarked\n",
    "    (\"title_transform\", Pipeline([(\"selector\", DataFrameSelector([\"Title\"])),\n",
    "                                    (\"binarizer\", CustomBinarizer())])), # encode Title\n",
    "    (\"cabin_transform\", Pipeline([(\"selector\", DataFrameSelector([\"Cabin_letter\"])),\n",
    "                                (\"binarizer\", BinarizerByClass(list(set(titanic[\"Cabin_letter\"]))))])) # encode Cabin Letter\n",
    "])\n",
    "cat_pip.fit_transform(titanic)"
   ]
  },
  {
   "cell_type": "code",
   "execution_count": 126,
   "metadata": {
    "collapsed": true
   },
   "outputs": [],
   "source": [
    "num_attribs = [\"Age\", \"Fare\", \"Parch\", \"SibSp\"]\n",
    "num_pip = Pipeline([\n",
    "    (\"selector\", DataFrameSelector(num_attribs)),\n",
    "    (\"imputer\", Imputer(strategy=\"mean\")),\n",
    "    (\"std_scaler\", StandardScaler())\n",
    "])"
   ]
  },
  {
   "cell_type": "code",
   "execution_count": 127,
   "metadata": {
    "collapsed": true
   },
   "outputs": [],
   "source": [
    "full_pip = FeatureUnion(transformer_list=[\n",
    "    (\"cat_pip\", cat_pip),\n",
    "    (\"num_pip\", num_pip)\n",
    "])"
   ]
  },
  {
   "cell_type": "code",
   "execution_count": 128,
   "metadata": {},
   "outputs": [
    {
     "data": {
      "text/plain": [
       "(891, 24)"
      ]
     },
     "execution_count": 128,
     "metadata": {},
     "output_type": "execute_result"
    }
   ],
   "source": [
    "prepared_data = full_pip.fit_transform(titanic)\n",
    "prepared_data = np.c_[titanic[\"Pclass\"].values, prepared_data]\n",
    "prepared_data.shape"
   ]
  },
  {
   "cell_type": "markdown",
   "metadata": {},
   "source": [
    "### Train Models"
   ]
  },
  {
   "cell_type": "code",
   "execution_count": 129,
   "metadata": {
    "collapsed": true
   },
   "outputs": [],
   "source": [
    "from sklearn.model_selection import cross_val_predict\n",
    "from sklearn.ensemble import RandomForestClassifier, GradientBoostingClassifier\n",
    "from sklearn.svm import SVC\n",
    "from sklearn.linear_model import LogisticRegression\n",
    "from sklearn.model_selection import StratifiedKFold, KFold, StratifiedShuffleSplit\n",
    "from sklearn.metrics import recall_score, accuracy_score\n",
    "classifier = [RandomForestClassifier(), \n",
    "       GradientBoostingClassifier(), \n",
    "       SVC(), \n",
    "       LogisticRegression()]"
   ]
  },
  {
   "cell_type": "code",
   "execution_count": 130,
   "metadata": {},
   "outputs": [
    {
     "name": "stdout",
     "output_type": "stream",
     "text": [
      "Accuracy:\n",
      "RandomForestClassifier :  0.799181853097\n",
      "GradientBoostingClassifier :  0.829488042891\n",
      "SVC :  0.832795987782\n",
      "LogisticRegression :  0.829437684478\n"
     ]
    }
   ],
   "source": [
    "k = 5\n",
    "split = StratifiedKFold(n_splits=k)\n",
    "accuracy = {}\n",
    "\n",
    "for train_index, test_index in split.split(prepared_data, target):\n",
    "    X_train, Y_train = prepared_data[train_index], target[train_index]\n",
    "    X_test, Y_test = prepared_data[test_index], target[test_index]\n",
    "\n",
    "    for clf in classifier:\n",
    "        name = clf.__class__.__name__\n",
    "        clf.fit(X_train, Y_train)\n",
    "        Y_prediction = clf.predict(X_test)\n",
    "        accu = accuracy_score(y_pred=Y_prediction, y_true=Y_test)\n",
    "\n",
    "        if name in accuracy:\n",
    "            accuracy[name] += accu\n",
    "        else:\n",
    "            accuracy[name] = accu\n",
    "                \n",
    "print(\"Accuracy:\")\n",
    "for key, value in accuracy.items():\n",
    "    print(key, \": \",  value/k)"
   ]
  },
  {
   "cell_type": "code",
   "execution_count": 131,
   "metadata": {},
   "outputs": [
    {
     "name": "stdout",
     "output_type": "stream",
     "text": [
      "Accuracy 0.838439215444\n"
     ]
    }
   ],
   "source": [
    "from sklearn.ensemble import VotingClassifier\n",
    "grb_clf = GradientBoostingClassifier()\n",
    "svc_clf = SVC(probability=True)\n",
    "lgs_clf = LogisticRegression()\n",
    "voting = VotingClassifier(estimators=[(\"grb\", grb_clf), (\"svc\", svc_clf), (\"lgs\", lgs_clf)], voting = \"soft\")\n",
    "accu = []\n",
    "for train_index, test_index in split.split(prepared_data, target):\n",
    "    train_X, train_Y = prepared_data[train_index], target[train_index]\n",
    "    test_X, test_Y = prepared_data[test_index], target[test_index]\n",
    "    voting.fit(train_X, train_Y)\n",
    "    pred_Y = voting.predict(test_X)\n",
    "    accu.append(accuracy_score(y_pred=pred_Y, y_true=test_Y))\n",
    "print(\"Accuracy\", np.array(accu).mean())"
   ]
  },
  {
   "cell_type": "code",
   "execution_count": 140,
   "metadata": {},
   "outputs": [
    {
     "name": "stdout",
     "output_type": "stream",
     "text": [
      "Fitting 5 folds for each of 270 candidates, totalling 1350 fits\n"
     ]
    },
    {
     "name": "stderr",
     "output_type": "stream",
     "text": [
      "[Parallel(n_jobs=-1)]: Done  17 tasks      | elapsed:    4.0s\n",
      "[Parallel(n_jobs=-1)]: Done  90 tasks      | elapsed:   15.0s\n",
      "[Parallel(n_jobs=-1)]: Done 213 tasks      | elapsed:   41.6s\n",
      "[Parallel(n_jobs=-1)]: Done 384 tasks      | elapsed:  1.3min\n",
      "[Parallel(n_jobs=-1)]: Done 605 tasks      | elapsed:  2.0min\n",
      "[Parallel(n_jobs=-1)]: Done 874 tasks      | elapsed:  2.8min\n",
      "[Parallel(n_jobs=-1)]: Done 1193 tasks      | elapsed:  3.7min\n",
      "[Parallel(n_jobs=-1)]: Done 1350 out of 1350 | elapsed:  4.2min finished\n"
     ]
    },
    {
     "data": {
      "text/plain": [
       "GridSearchCV(cv=5, error_score='raise',\n",
       "       estimator=GradientBoostingClassifier(criterion='friedman_mse', init=None,\n",
       "              learning_rate=0.1, loss='deviance', max_depth=3,\n",
       "              max_features=None, max_leaf_nodes=None,\n",
       "              min_impurity_split=1e-07, min_samples_leaf=1,\n",
       "              min_samples_split=2, min_weight_fraction_leaf=0.0,\n",
       "              n_estimators=100, presort='auto', random_state=None,\n",
       "              subsample=1.0, verbose=0, warm_start=False),\n",
       "       fit_params={}, iid=True, n_jobs=-1,\n",
       "       param_grid={'learning_rate': array([ 0.1,  0.2,  0.3,  0.4,  0.5,  0.6,  0.7,  0.8,  0.9,  1. ]), 'n_estimators': array([ 50, 100, 150, 200, 250, 300, 350, 400, 450]), 'max_depth': [3, 5, 10]},\n",
       "       pre_dispatch='2*n_jobs', refit=True, return_train_score=True,\n",
       "       scoring='accuracy', verbose=4)"
      ]
     },
     "execution_count": 140,
     "metadata": {},
     "output_type": "execute_result"
    }
   ],
   "source": [
    "from sklearn.model_selection import GridSearchCV\n",
    "param_grid = {\"learning_rate\": np.linspace(0.1,1,10), \n",
    "              \"n_estimators\": np.arange(50,500,50), \n",
    "              \"max_depth\": [3,5,10]}\n",
    "grid_search = GridSearchCV(GradientBoostingClassifier(),param_grid,cv=5,n_jobs=-1,verbose=4, scoring=\"accuracy\")\n",
    "grid_search.fit(prepared_data, target)"
   ]
  },
  {
   "cell_type": "code",
   "execution_count": 145,
   "metadata": {},
   "outputs": [],
   "source": [
    "gb_clf = grid_search.best_estimator_"
   ]
  },
  {
   "cell_type": "code",
   "execution_count": 147,
   "metadata": {},
   "outputs": [
    {
     "data": {
      "text/plain": [
       "GridSearchCV(cv=5, error_score='raise',\n",
       "       estimator=RandomForestClassifier(bootstrap=True, class_weight=None, criterion='gini',\n",
       "            max_depth=None, max_features='auto', max_leaf_nodes=None,\n",
       "            min_impurity_split=1e-07, min_samples_leaf=1,\n",
       "            min_samples_split=2, min_weight_fraction_leaf=0.0,\n",
       "            n_estimators=10, n_jobs=1, oob_score=False, random_state=None,\n",
       "            verbose=0, warm_start=False),\n",
       "       fit_params={}, iid=True, n_jobs=-1,\n",
       "       param_grid={'n_estimators': array([ 50, 100, 150, 200, 250, 300, 350, 400, 450]), 'max_depth': [3, 5, 10, 15], 'max_features': array([ 1,  4,  7, 10, 13, 16, 19, 22]), 'bootstrap': [True, False]},\n",
       "       pre_dispatch='2*n_jobs', refit=True, return_train_score=True,\n",
       "       scoring='accuracy', verbose=0)"
      ]
     },
     "execution_count": 147,
     "metadata": {},
     "output_type": "execute_result"
    }
   ],
   "source": [
    "param_grid = {\"n_estimators\": np.arange(50,500,50),\n",
    "             \"max_depth\": [3,5,10,15],\n",
    "             \"max_features\": np.arange(1, prepared_data.shape[1], 3),\n",
    "             \"bootstrap\": [True, False]}\n",
    "grid_search = GridSearchCV(RandomForestClassifier(), param_grid, cv=5, scoring=\"accuracy\", n_jobs=-1)\n",
    "grid_search.fit(prepared_data, target)"
   ]
  },
  {
   "cell_type": "code",
   "execution_count": 152,
   "metadata": {},
   "outputs": [
    {
     "data": {
      "text/plain": [
       "0.83838383838383834"
      ]
     },
     "execution_count": 152,
     "metadata": {},
     "output_type": "execute_result"
    }
   ],
   "source": [
    "forest_clf = grid_search.best_estimator_\n",
    "grid_search.best_score_"
   ]
  },
  {
   "cell_type": "code",
   "execution_count": 170,
   "metadata": {},
   "outputs": [
    {
     "name": "stdout",
     "output_type": "stream",
     "text": [
      "Fitting 5 folds for each of 120 candidates, totalling 600 fits\n"
     ]
    },
    {
     "name": "stderr",
     "output_type": "stream",
     "text": [
      "[Parallel(n_jobs=-1)]: Done  17 tasks      | elapsed:    3.5s\n",
      "[Parallel(n_jobs=-1)]: Done 236 tasks      | elapsed:   15.0s\n",
      "[Parallel(n_jobs=-1)]: Done 378 tasks      | elapsed:   34.3s\n",
      "[Parallel(n_jobs=-1)]: Done 549 tasks      | elapsed:  1.2min\n",
      "[Parallel(n_jobs=-1)]: Done 600 out of 600 | elapsed:  1.4min finished\n"
     ]
    },
    {
     "data": {
      "text/plain": [
       "GridSearchCV(cv=5, error_score='raise',\n",
       "       estimator=SVC(C=1.0, cache_size=200, class_weight=None, coef0=0.0,\n",
       "  decision_function_shape=None, degree=3, gamma='auto', kernel='rbf',\n",
       "  max_iter=-1, probability=False, random_state=None, shrinking=True,\n",
       "  tol=0.001, verbose=False),\n",
       "       fit_params={}, iid=True, n_jobs=-1,\n",
       "       param_grid={'kernel': ['linear', 'rbf'], 'C': array([   1.,   21.,   41.,   61.,   81.,  101.,  121.,  141.,  161.,  181.]), 'gamma': array([ 0.01,  0.51,  1.01,  1.51,  2.01,  2.51])},\n",
       "       pre_dispatch='2*n_jobs', refit=True, return_train_score=True,\n",
       "       scoring='accuracy', verbose=4)"
      ]
     },
     "execution_count": 170,
     "metadata": {},
     "output_type": "execute_result"
    }
   ],
   "source": [
    "from sklearn.svm import SVC\n",
    "param_grid = {\"kernel\": [\"linear\", \"rbf\"], \n",
    "              \"C\": np.arange(1.0, 200.0, 20), \n",
    "              \"gamma\":np.arange(0.01, 3.0, 0.5)}\n",
    "grid_search = GridSearchCV(SVC(), param_grid, cv=5, scoring=\"accuracy\", n_jobs=-1, verbose=4)\n",
    "grid_search.fit(prepared_data, target)"
   ]
  },
  {
   "cell_type": "code",
   "execution_count": 171,
   "metadata": {},
   "outputs": [
    {
     "data": {
      "text/plain": [
       "0.83277216610549942"
      ]
     },
     "execution_count": 171,
     "metadata": {},
     "output_type": "execute_result"
    }
   ],
   "source": [
    "grid_search.best_score_"
   ]
  },
  {
   "cell_type": "code",
   "execution_count": 182,
   "metadata": {},
   "outputs": [
    {
     "data": {
      "text/plain": [
       "SVC(C=21.0, cache_size=200, class_weight=None, coef0=0.0,\n",
       "  decision_function_shape=None, degree=3, gamma=0.01, kernel='rbf',\n",
       "  max_iter=-1, probability=True, random_state=None, shrinking=True,\n",
       "  tol=0.001, verbose=False)"
      ]
     },
     "execution_count": 182,
     "metadata": {},
     "output_type": "execute_result"
    }
   ],
   "source": [
    "svc_clf = grid_search.best_estimator_\n",
    "svc_clf.set_params(probability =True)"
   ]
  },
  {
   "cell_type": "code",
   "execution_count": 185,
   "metadata": {},
   "outputs": [
    {
     "name": "stdout",
     "output_type": "stream",
     "text": [
      "Accuracy 0.838407617313\n"
     ]
    }
   ],
   "source": [
    "from sklearn.ensemble import VotingClassifier\n",
    "\n",
    "voting = VotingClassifier(estimators=[(\"grb\", gb_clf), \n",
    "                                      (\"forest\", forest_clf), \n",
    "                                      (\"svc\", svc_clf)], voting = \"soft\")\n",
    "accu = []\n",
    "for train_index, test_index in split.split(prepared_data, target):\n",
    "    train_X, train_Y = prepared_data[train_index], target[train_index]\n",
    "    test_X, test_Y = prepared_data[test_index], target[test_index]\n",
    "    voting.fit(train_X, train_Y)\n",
    "    pred_Y = voting.predict(test_X)\n",
    "    accu.append(accuracy_score(y_pred=pred_Y, y_true=test_Y))\n",
    "print(\"Accuracy\", np.array(accu).mean())"
   ]
  },
  {
   "cell_type": "code",
   "execution_count": 186,
   "metadata": {},
   "outputs": [
    {
     "data": {
      "text/plain": [
       "VotingClassifier(estimators=[('grb', GradientBoostingClassifier(criterion='friedman_mse', init=None,\n",
       "              learning_rate=0.10000000000000001, loss='deviance',\n",
       "              max_depth=3, max_features=None, max_leaf_nodes=None,\n",
       "              min_impurity_split=1e-07, min_samples_leaf=1,\n",
       "              min_sampl...',\n",
       "  max_iter=-1, probability=True, random_state=None, shrinking=True,\n",
       "  tol=0.001, verbose=False))],\n",
       "         n_jobs=1, voting='soft', weights=None)"
      ]
     },
     "execution_count": 186,
     "metadata": {},
     "output_type": "execute_result"
    }
   ],
   "source": [
    "voting.fit(prepared_data, target)"
   ]
  },
  {
   "cell_type": "code",
   "execution_count": 187,
   "metadata": {},
   "outputs": [],
   "source": [
    "titanic_test = pd.read_csv(\"test.csv\")"
   ]
  },
  {
   "cell_type": "code",
   "execution_count": 188,
   "metadata": {
    "collapsed": true
   },
   "outputs": [],
   "source": [
    "featureAdder = FeatureAdder(\"Name\", \"Cabin\")\n",
    "arr = featureAdder.fit_transform(titanic_test)\n",
    "titanic_test = pd.DataFrame(arr, columns=list(titanic_test.columns)+[\"Title\", \"Cabin_letter\"])"
   ]
  },
  {
   "cell_type": "code",
   "execution_count": 189,
   "metadata": {},
   "outputs": [
    {
     "data": {
      "text/plain": [
       "(418, 24)"
      ]
     },
     "execution_count": 189,
     "metadata": {},
     "output_type": "execute_result"
    }
   ],
   "source": [
    "prepared_test = full_pip.fit_transform(titanic_test)\n",
    "prepared_test = np.c_[titanic_test[\"Pclass\"].values, prepared_test]\n",
    "prepared_test.shape"
   ]
  },
  {
   "cell_type": "code",
   "execution_count": 190,
   "metadata": {
    "collapsed": true
   },
   "outputs": [],
   "source": [
    "prediction = voting.predict(prepared_test)"
   ]
  },
  {
   "cell_type": "code",
   "execution_count": 191,
   "metadata": {
    "collapsed": true
   },
   "outputs": [],
   "source": [
    "submission = pd.DataFrame({'PassengerId': titanic_test[\"PassengerId\"],\n",
    "                           'Survived': prediction})"
   ]
  },
  {
   "cell_type": "code",
   "execution_count": 192,
   "metadata": {},
   "outputs": [
    {
     "data": {
      "text/html": [
       "<div>\n",
       "<style>\n",
       "    .dataframe thead tr:only-child th {\n",
       "        text-align: right;\n",
       "    }\n",
       "\n",
       "    .dataframe thead th {\n",
       "        text-align: left;\n",
       "    }\n",
       "\n",
       "    .dataframe tbody tr th {\n",
       "        vertical-align: top;\n",
       "    }\n",
       "</style>\n",
       "<table border=\"1\" class=\"dataframe\">\n",
       "  <thead>\n",
       "    <tr style=\"text-align: right;\">\n",
       "      <th></th>\n",
       "      <th>PassengerId</th>\n",
       "      <th>Survived</th>\n",
       "    </tr>\n",
       "  </thead>\n",
       "  <tbody>\n",
       "    <tr>\n",
       "      <th>0</th>\n",
       "      <td>892</td>\n",
       "      <td>0</td>\n",
       "    </tr>\n",
       "    <tr>\n",
       "      <th>1</th>\n",
       "      <td>893</td>\n",
       "      <td>0</td>\n",
       "    </tr>\n",
       "    <tr>\n",
       "      <th>2</th>\n",
       "      <td>894</td>\n",
       "      <td>0</td>\n",
       "    </tr>\n",
       "    <tr>\n",
       "      <th>3</th>\n",
       "      <td>895</td>\n",
       "      <td>0</td>\n",
       "    </tr>\n",
       "    <tr>\n",
       "      <th>4</th>\n",
       "      <td>896</td>\n",
       "      <td>1</td>\n",
       "    </tr>\n",
       "  </tbody>\n",
       "</table>\n",
       "</div>"
      ],
      "text/plain": [
       "  PassengerId  Survived\n",
       "0         892         0\n",
       "1         893         0\n",
       "2         894         0\n",
       "3         895         0\n",
       "4         896         1"
      ]
     },
     "execution_count": 192,
     "metadata": {},
     "output_type": "execute_result"
    }
   ],
   "source": [
    "submission.head()"
   ]
  },
  {
   "cell_type": "code",
   "execution_count": 193,
   "metadata": {
    "collapsed": true
   },
   "outputs": [],
   "source": [
    "submission.to_csv(\"submission.csv\", index=False)"
   ]
  },
  {
   "cell_type": "code",
   "execution_count": null,
   "metadata": {
    "collapsed": true
   },
   "outputs": [],
   "source": []
  }
 ],
 "metadata": {
  "kernelspec": {
   "display_name": "Python 3",
   "language": "python",
   "name": "python3"
  },
  "language_info": {
   "codemirror_mode": {
    "name": "ipython",
    "version": 3
   },
   "file_extension": ".py",
   "mimetype": "text/x-python",
   "name": "python",
   "nbconvert_exporter": "python",
   "pygments_lexer": "ipython3",
   "version": "3.6.1"
  }
 },
 "nbformat": 4,
 "nbformat_minor": 2
}
